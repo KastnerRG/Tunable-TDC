{
 "cells": [
  {
   "cell_type": "markdown",
   "metadata": {},
   "source": [
    "# Tunable Dual-Polarity Time-to-Digital Converter Demonstration"
   ]
  },
  {
   "cell_type": "code",
   "execution_count": 45,
   "metadata": {},
   "outputs": [],
   "source": [
    "import burn \n",
    "import numpy as np\n",
    "import matplotlib.pyplot as plt\n",
    "from tqdm import tqdm"
   ]
  },
  {
   "cell_type": "markdown",
   "metadata": {},
   "source": [
    "This design contains the Tunable Dual-Polarity Time-to-Digital Converter along side the PicoRV processor"
   ]
  },
  {
   "cell_type": "code",
   "execution_count": 46,
   "metadata": {},
   "outputs": [],
   "source": [
    "design = burn.z1.picorv.picorv32.baseOverlay(\"picorv32.bit\")"
   ]
  },
  {
   "cell_type": "markdown",
   "metadata": {},
   "source": [
    "By defualt, the transitions through the carry chain do not fall in a capturable window. This is dont to prevent timing violatings and make the sensor more difficult to detect. To move the transition into the window, we gradually shift theta until the popcount of the rising transition has entered the carry chain. After this point we will move the transition further from the edge to prevent it overflowing. A more careful tuning method to avoid architectural irregularities is presented in our corresponding paper."
   ]
  },
  {
   "cell_type": "code",
   "execution_count": 47,
   "metadata": {
    "scrolled": false
   },
   "outputs": [],
   "source": [
    "while True:\n",
    "    buf = design.run(6)\n",
    "    design.chain0.phaseBump.down()\n",
    "    if (np.mean(burn.parse.Trace.CombinedTrace(buf).pos.pop) != 64.0):\n",
    "        break\n",
    "\n",
    "for bump in range(10):\n",
    "    design.chain0.phaseBump.down()"
   ]
  },
  {
   "cell_type": "markdown",
   "metadata": {},
   "source": [
    "This AES implemention is loaded onto the core and will run perpetually when active. We keep it deactive until we have captured a background phi sweep."
   ]
  },
  {
   "cell_type": "code",
   "execution_count": 48,
   "metadata": {},
   "outputs": [
    {
     "name": "stdout",
     "output_type": "stream",
     "text": [
      "inited pico\n",
      "INIT PROCESSOR\n",
      "BP: /home/xilinx/jupyter_notebooks/PL-Sensors/burn/z1/picorv/build\n"
     ]
    },
    {
     "data": {
      "text/html": [
       "<pre>Compilation of program aes SUCCEEDED</pre>"
      ],
      "text/plain": [
       "<IPython.core.display.HTML object>"
      ]
     },
     "execution_count": 48,
     "metadata": {},
     "output_type": "execute_result"
    }
   ],
   "source": [
    "%%riscvc aes design.processor\n",
    "\n",
    "// All credit: https://github.com/kokke/tiny-AES-c\n",
    "\n",
    "#define Nb 4\n",
    "#define Nk 4\n",
    "#define KEYLEN 16\n",
    "#define Nr 10\n",
    "#ifndef MULTIPLY_AS_A_FUNCTION\n",
    "  #define MULTIPLY_AS_A_FUNCTION 0\n",
    "#endif\n",
    "\n",
    "typedef unsigned char uint8_t;\n",
    "typedef unsigned short uint16_t;\n",
    "typedef unsigned long uint32_t;\n",
    "typedef unsigned long long uint64_t;\n",
    "typedef uint32_t size_t;\n",
    "typedef uint32_t uintptr_t;\n",
    "typedef uint32_t size_t;\n",
    "\n",
    "typedef uint8_t state_t[4][4];\n",
    "static state_t* state;\n",
    "\n",
    "static uint8_t RoundKey[176];\n",
    "\n",
    "static const uint8_t* Key;\n",
    "\n",
    "static uint8_t* Iv;\n",
    "\n",
    "static const uint8_t sbox[256] =   {\n",
    "  //0     1    2      3     4    5     6     7      8    9     A      B    C     D     E     F\n",
    "  0x63, 0x7c, 0x77, 0x7b, 0xf2, 0x6b, 0x6f, 0xc5, 0x30, 0x01, 0x67, 0x2b, 0xfe, 0xd7, 0xab, 0x76,\n",
    "  0xca, 0x82, 0xc9, 0x7d, 0xfa, 0x59, 0x47, 0xf0, 0xad, 0xd4, 0xa2, 0xaf, 0x9c, 0xa4, 0x72, 0xc0,\n",
    "  0xb7, 0xfd, 0x93, 0x26, 0x36, 0x3f, 0xf7, 0xcc, 0x34, 0xa5, 0xe5, 0xf1, 0x71, 0xd8, 0x31, 0x15,\n",
    "  0x04, 0xc7, 0x23, 0xc3, 0x18, 0x96, 0x05, 0x9a, 0x07, 0x12, 0x80, 0xe2, 0xeb, 0x27, 0xb2, 0x75,\n",
    "  0x09, 0x83, 0x2c, 0x1a, 0x1b, 0x6e, 0x5a, 0xa0, 0x52, 0x3b, 0xd6, 0xb3, 0x29, 0xe3, 0x2f, 0x84,\n",
    "  0x53, 0xd1, 0x00, 0xed, 0x20, 0xfc, 0xb1, 0x5b, 0x6a, 0xcb, 0xbe, 0x39, 0x4a, 0x4c, 0x58, 0xcf,\n",
    "  0xd0, 0xef, 0xaa, 0xfb, 0x43, 0x4d, 0x33, 0x85, 0x45, 0xf9, 0x02, 0x7f, 0x50, 0x3c, 0x9f, 0xa8,\n",
    "  0x51, 0xa3, 0x40, 0x8f, 0x92, 0x9d, 0x38, 0xf5, 0xbc, 0xb6, 0xda, 0x21, 0x10, 0xff, 0xf3, 0xd2,\n",
    "  0xcd, 0x0c, 0x13, 0xec, 0x5f, 0x97, 0x44, 0x17, 0xc4, 0xa7, 0x7e, 0x3d, 0x64, 0x5d, 0x19, 0x73,\n",
    "  0x60, 0x81, 0x4f, 0xdc, 0x22, 0x2a, 0x90, 0x88, 0x46, 0xee, 0xb8, 0x14, 0xde, 0x5e, 0x0b, 0xdb,\n",
    "  0xe0, 0x32, 0x3a, 0x0a, 0x49, 0x06, 0x24, 0x5c, 0xc2, 0xd3, 0xac, 0x62, 0x91, 0x95, 0xe4, 0x79,\n",
    "  0xe7, 0xc8, 0x37, 0x6d, 0x8d, 0xd5, 0x4e, 0xa9, 0x6c, 0x56, 0xf4, 0xea, 0x65, 0x7a, 0xae, 0x08,\n",
    "  0xba, 0x78, 0x25, 0x2e, 0x1c, 0xa6, 0xb4, 0xc6, 0xe8, 0xdd, 0x74, 0x1f, 0x4b, 0xbd, 0x8b, 0x8a,\n",
    "  0x70, 0x3e, 0xb5, 0x66, 0x48, 0x03, 0xf6, 0x0e, 0x61, 0x35, 0x57, 0xb9, 0x86, 0xc1, 0x1d, 0x9e,\n",
    "  0xe1, 0xf8, 0x98, 0x11, 0x69, 0xd9, 0x8e, 0x94, 0x9b, 0x1e, 0x87, 0xe9, 0xce, 0x55, 0x28, 0xdf,\n",
    "  0x8c, 0xa1, 0x89, 0x0d, 0xbf, 0xe6, 0x42, 0x68, 0x41, 0x99, 0x2d, 0x0f, 0xb0, 0x54, 0xbb, 0x16 };\n",
    "\n",
    "static const uint8_t rsbox[256] =\n",
    "{ 0x52, 0x09, 0x6a, 0xd5, 0x30, 0x36, 0xa5, 0x38, 0xbf, 0x40, 0xa3, 0x9e, 0x81, 0xf3, 0xd7, 0xfb,\n",
    "  0x7c, 0xe3, 0x39, 0x82, 0x9b, 0x2f, 0xff, 0x87, 0x34, 0x8e, 0x43, 0x44, 0xc4, 0xde, 0xe9, 0xcb,\n",
    "  0x54, 0x7b, 0x94, 0x32, 0xa6, 0xc2, 0x23, 0x3d, 0xee, 0x4c, 0x95, 0x0b, 0x42, 0xfa, 0xc3, 0x4e,\n",
    "  0x08, 0x2e, 0xa1, 0x66, 0x28, 0xd9, 0x24, 0xb2, 0x76, 0x5b, 0xa2, 0x49, 0x6d, 0x8b, 0xd1, 0x25,\n",
    "  0x72, 0xf8, 0xf6, 0x64, 0x86, 0x68, 0x98, 0x16, 0xd4, 0xa4, 0x5c, 0xcc, 0x5d, 0x65, 0xb6, 0x92,\n",
    "  0x6c, 0x70, 0x48, 0x50, 0xfd, 0xed, 0xb9, 0xda, 0x5e, 0x15, 0x46, 0x57, 0xa7, 0x8d, 0x9d, 0x84,\n",
    "  0x90, 0xd8, 0xab, 0x00, 0x8c, 0xbc, 0xd3, 0x0a, 0xf7, 0xe4, 0x58, 0x05, 0xb8, 0xb3, 0x45, 0x06,\n",
    "  0xd0, 0x2c, 0x1e, 0x8f, 0xca, 0x3f, 0x0f, 0x02, 0xc1, 0xaf, 0xbd, 0x03, 0x01, 0x13, 0x8a, 0x6b,\n",
    "  0x3a, 0x91, 0x11, 0x41, 0x4f, 0x67, 0xdc, 0xea, 0x97, 0xf2, 0xcf, 0xce, 0xf0, 0xb4, 0xe6, 0x73,\n",
    "  0x96, 0xac, 0x74, 0x22, 0xe7, 0xad, 0x35, 0x85, 0xe2, 0xf9, 0x37, 0xe8, 0x1c, 0x75, 0xdf, 0x6e,\n",
    "  0x47, 0xf1, 0x1a, 0x71, 0x1d, 0x29, 0xc5, 0x89, 0x6f, 0xb7, 0x62, 0x0e, 0xaa, 0x18, 0xbe, 0x1b,\n",
    "  0xfc, 0x56, 0x3e, 0x4b, 0xc6, 0xd2, 0x79, 0x20, 0x9a, 0xdb, 0xc0, 0xfe, 0x78, 0xcd, 0x5a, 0xf4,\n",
    "  0x1f, 0xdd, 0xa8, 0x33, 0x88, 0x07, 0xc7, 0x31, 0xb1, 0x12, 0x10, 0x59, 0x27, 0x80, 0xec, 0x5f,\n",
    "  0x60, 0x51, 0x7f, 0xa9, 0x19, 0xb5, 0x4a, 0x0d, 0x2d, 0xe5, 0x7a, 0x9f, 0x93, 0xc9, 0x9c, 0xef,\n",
    "  0xa0, 0xe0, 0x3b, 0x4d, 0xae, 0x2a, 0xf5, 0xb0, 0xc8, 0xeb, 0xbb, 0x3c, 0x83, 0x53, 0x99, 0x61,\n",
    "  0x17, 0x2b, 0x04, 0x7e, 0xba, 0x77, 0xd6, 0x26, 0xe1, 0x69, 0x14, 0x63, 0x55, 0x21, 0x0c, 0x7d };\n",
    "\n",
    "static const uint8_t Rcon[255] = {\n",
    "  0x8d, 0x01, 0x02, 0x04, 0x08, 0x10, 0x20, 0x40, 0x80, 0x1b, 0x36, 0x6c, 0xd8, 0xab, 0x4d, 0x9a, \n",
    "  0x2f, 0x5e, 0xbc, 0x63, 0xc6, 0x97, 0x35, 0x6a, 0xd4, 0xb3, 0x7d, 0xfa, 0xef, 0xc5, 0x91, 0x39, \n",
    "  0x72, 0xe4, 0xd3, 0xbd, 0x61, 0xc2, 0x9f, 0x25, 0x4a, 0x94, 0x33, 0x66, 0xcc, 0x83, 0x1d, 0x3a, \n",
    "  0x74, 0xe8, 0xcb, 0x8d, 0x01, 0x02, 0x04, 0x08, 0x10, 0x20, 0x40, 0x80, 0x1b, 0x36, 0x6c, 0xd8, \n",
    "  0xab, 0x4d, 0x9a, 0x2f, 0x5e, 0xbc, 0x63, 0xc6, 0x97, 0x35, 0x6a, 0xd4, 0xb3, 0x7d, 0xfa, 0xef, \n",
    "  0xc5, 0x91, 0x39, 0x72, 0xe4, 0xd3, 0xbd, 0x61, 0xc2, 0x9f, 0x25, 0x4a, 0x94, 0x33, 0x66, 0xcc, \n",
    "  0x83, 0x1d, 0x3a, 0x74, 0xe8, 0xcb, 0x8d, 0x01, 0x02, 0x04, 0x08, 0x10, 0x20, 0x40, 0x80, 0x1b, \n",
    "  0x36, 0x6c, 0xd8, 0xab, 0x4d, 0x9a, 0x2f, 0x5e, 0xbc, 0x63, 0xc6, 0x97, 0x35, 0x6a, 0xd4, 0xb3, \n",
    "  0x7d, 0xfa, 0xef, 0xc5, 0x91, 0x39, 0x72, 0xe4, 0xd3, 0xbd, 0x61, 0xc2, 0x9f, 0x25, 0x4a, 0x94, \n",
    "  0x33, 0x66, 0xcc, 0x83, 0x1d, 0x3a, 0x74, 0xe8, 0xcb, 0x8d, 0x01, 0x02, 0x04, 0x08, 0x10, 0x20, \n",
    "  0x40, 0x80, 0x1b, 0x36, 0x6c, 0xd8, 0xab, 0x4d, 0x9a, 0x2f, 0x5e, 0xbc, 0x63, 0xc6, 0x97, 0x35, \n",
    "  0x6a, 0xd4, 0xb3, 0x7d, 0xfa, 0xef, 0xc5, 0x91, 0x39, 0x72, 0xe4, 0xd3, 0xbd, 0x61, 0xc2, 0x9f, \n",
    "  0x25, 0x4a, 0x94, 0x33, 0x66, 0xcc, 0x83, 0x1d, 0x3a, 0x74, 0xe8, 0xcb, 0x8d, 0x01, 0x02, 0x04, \n",
    "  0x08, 0x10, 0x20, 0x40, 0x80, 0x1b, 0x36, 0x6c, 0xd8, 0xab, 0x4d, 0x9a, 0x2f, 0x5e, 0xbc, 0x63, \n",
    "  0xc6, 0x97, 0x35, 0x6a, 0xd4, 0xb3, 0x7d, 0xfa, 0xef, 0xc5, 0x91, 0x39, 0x72, 0xe4, 0xd3, 0xbd, \n",
    "  0x61, 0xc2, 0x9f, 0x25, 0x4a, 0x94, 0x33, 0x66, 0xcc, 0x83, 0x1d, 0x3a, 0x74, 0xe8, 0xcb  };\n",
    "\n",
    "\n",
    "/*****************************************************************************/\n",
    "/* Private functions:                                                        */\n",
    "/*****************************************************************************/\n",
    "static uint8_t getSBoxValue(uint8_t num)\n",
    "{\n",
    "  return sbox[num];\n",
    "}\n",
    "\n",
    "static uint8_t getSBoxInvert(uint8_t num)\n",
    "{\n",
    "  return rsbox[num];\n",
    "}\n",
    "\n",
    "// This function produces Nb(Nr+1) round keys. The round keys are used in each round to decrypt the states. \n",
    "static void KeyExpansion(void)\n",
    "{\n",
    "  uint32_t i, j, k;\n",
    "  uint8_t tempa[4]; // Used for the column/row operations\n",
    "  \n",
    "  // The first round key is the key itself.\n",
    "  for(i = 0; i < Nk; ++i)\n",
    "  {\n",
    "    RoundKey[(i * 4) + 0] = Key[(i * 4) + 0];\n",
    "    RoundKey[(i * 4) + 1] = Key[(i * 4) + 1];\n",
    "    RoundKey[(i * 4) + 2] = Key[(i * 4) + 2];\n",
    "    RoundKey[(i * 4) + 3] = Key[(i * 4) + 3];\n",
    "  }\n",
    "\n",
    "  // All other round keys are found from the previous round keys.\n",
    "  for(; (i < (Nb * (Nr + 1))); ++i)\n",
    "  {\n",
    "    for(j = 0; j < 4; ++j)\n",
    "    {\n",
    "      tempa[j]=RoundKey[(i-1) * 4 + j];\n",
    "    }\n",
    "    if (i % Nk == 0)\n",
    "    {\n",
    "      // This function rotates the 4 bytes in a word to the left once.\n",
    "      // [a0,a1,a2,a3] becomes [a1,a2,a3,a0]\n",
    "\n",
    "      // Function RotWord()\n",
    "      {\n",
    "        k = tempa[0];\n",
    "        tempa[0] = tempa[1];\n",
    "        tempa[1] = tempa[2];\n",
    "        tempa[2] = tempa[3];\n",
    "        tempa[3] = k;\n",
    "      }\n",
    "\n",
    "      // SubWord() is a function that takes a four-byte input word and \n",
    "      // applies the S-box to each of the four bytes to produce an output word.\n",
    "\n",
    "      // Function Subword()\n",
    "      {\n",
    "        tempa[0] = getSBoxValue(tempa[0]);\n",
    "        tempa[1] = getSBoxValue(tempa[1]);\n",
    "        tempa[2] = getSBoxValue(tempa[2]);\n",
    "        tempa[3] = getSBoxValue(tempa[3]);\n",
    "      }\n",
    "\n",
    "      tempa[0] =  tempa[0] ^ Rcon[i/Nk];\n",
    "    }\n",
    "    else if (Nk > 6 && i % Nk == 4)\n",
    "    {\n",
    "      // Function Subword()\n",
    "      {\n",
    "        tempa[0] = getSBoxValue(tempa[0]);\n",
    "        tempa[1] = getSBoxValue(tempa[1]);\n",
    "        tempa[2] = getSBoxValue(tempa[2]);\n",
    "        tempa[3] = getSBoxValue(tempa[3]);\n",
    "      }\n",
    "    }\n",
    "    RoundKey[i * 4 + 0] = RoundKey[(i - Nk) * 4 + 0] ^ tempa[0];\n",
    "    RoundKey[i * 4 + 1] = RoundKey[(i - Nk) * 4 + 1] ^ tempa[1];\n",
    "    RoundKey[i * 4 + 2] = RoundKey[(i - Nk) * 4 + 2] ^ tempa[2];\n",
    "    RoundKey[i * 4 + 3] = RoundKey[(i - Nk) * 4 + 3] ^ tempa[3];\n",
    "  }\n",
    "}\n",
    "\n",
    "// This function adds the round key to state.\n",
    "// The round key is added to the state by an XOR function.\n",
    "static void AddRoundKey(uint8_t round)\n",
    "{\n",
    "  uint8_t i,j;\n",
    "  for(i=0;i<4;++i)\n",
    "  {\n",
    "    for(j = 0; j < 4; ++j)\n",
    "    {\n",
    "      (*state)[i][j] ^= RoundKey[round * Nb * 4 + i * Nb + j];\n",
    "    }\n",
    "  }\n",
    "}\n",
    "\n",
    "// The SubBytes Function Substitutes the values in the\n",
    "// state matrix with values in an S-box.\n",
    "static void SubBytes(void)\n",
    "{\n",
    "  uint8_t i, j;\n",
    "  for(i = 0; i < 4; ++i)\n",
    "  {\n",
    "    for(j = 0; j < 4; ++j)\n",
    "    {\n",
    "      (*state)[j][i] = getSBoxValue((*state)[j][i]);\n",
    "    }\n",
    "  }\n",
    "}\n",
    "\n",
    "// The ShiftRows() function shifts the rows in the state to the left.\n",
    "// Each row is shifted with different offset.\n",
    "// Offset = Row number. So the first row is not shifted.\n",
    "static void ShiftRows(void)\n",
    "{\n",
    "  uint8_t temp;\n",
    "\n",
    "  // Rotate first row 1 columns to left  \n",
    "  temp           = (*state)[0][1];\n",
    "  (*state)[0][1] = (*state)[1][1];\n",
    "  (*state)[1][1] = (*state)[2][1];\n",
    "  (*state)[2][1] = (*state)[3][1];\n",
    "  (*state)[3][1] = temp;\n",
    "\n",
    "  // Rotate second row 2 columns to left  \n",
    "  temp           = (*state)[0][2];\n",
    "  (*state)[0][2] = (*state)[2][2];\n",
    "  (*state)[2][2] = temp;\n",
    "\n",
    "  temp       = (*state)[1][2];\n",
    "  (*state)[1][2] = (*state)[3][2];\n",
    "  (*state)[3][2] = temp;\n",
    "\n",
    "  // Rotate third row 3 columns to left\n",
    "  temp       = (*state)[0][3];\n",
    "  (*state)[0][3] = (*state)[3][3];\n",
    "  (*state)[3][3] = (*state)[2][3];\n",
    "  (*state)[2][3] = (*state)[1][3];\n",
    "  (*state)[1][3] = temp;\n",
    "}\n",
    "\n",
    "static uint8_t xtime(uint8_t x)\n",
    "{\n",
    "  return ((x<<1) ^ (((x>>7) & 1) * 0x1b));\n",
    "}\n",
    "\n",
    "// MixColumns function mixes the columns of the state matrix\n",
    "static void MixColumns(void)\n",
    "{\n",
    "  uint8_t i;\n",
    "  uint8_t Tmp,Tm,t;\n",
    "  for(i = 0; i < 4; ++i)\n",
    "  {  \n",
    "    t   = (*state)[i][0];\n",
    "    Tmp = (*state)[i][0] ^ (*state)[i][1] ^ (*state)[i][2] ^ (*state)[i][3] ;\n",
    "    Tm  = (*state)[i][0] ^ (*state)[i][1] ; Tm = xtime(Tm);  (*state)[i][0] ^= Tm ^ Tmp ;\n",
    "    Tm  = (*state)[i][1] ^ (*state)[i][2] ; Tm = xtime(Tm);  (*state)[i][1] ^= Tm ^ Tmp ;\n",
    "    Tm  = (*state)[i][2] ^ (*state)[i][3] ; Tm = xtime(Tm);  (*state)[i][2] ^= Tm ^ Tmp ;\n",
    "    Tm  = (*state)[i][3] ^ t ;        Tm = xtime(Tm);  (*state)[i][3] ^= Tm ^ Tmp ;\n",
    "  }\n",
    "}\n",
    "\n",
    "// Multiply is used to multiply numbers in the field GF(2^8)\n",
    "#if MULTIPLY_AS_A_FUNCTION\n",
    "static uint8_t Multiply(uint8_t x, uint8_t y)\n",
    "{\n",
    "  return (((y & 1) * x) ^\n",
    "       ((y>>1 & 1) * xtime(x)) ^\n",
    "       ((y>>2 & 1) * xtime(xtime(x))) ^\n",
    "       ((y>>3 & 1) * xtime(xtime(xtime(x)))) ^\n",
    "       ((y>>4 & 1) * xtime(xtime(xtime(xtime(x))))));\n",
    "  }\n",
    "#else\n",
    "#define Multiply(x, y)                                \\\n",
    "      (  ((y & 1) * x) ^                              \\\n",
    "      ((y>>1 & 1) * xtime(x)) ^                       \\\n",
    "      ((y>>2 & 1) * xtime(xtime(x))) ^                \\\n",
    "      ((y>>3 & 1) * xtime(xtime(xtime(x)))) ^         \\\n",
    "      ((y>>4 & 1) * xtime(xtime(xtime(xtime(x))))))   \\\n",
    "\n",
    "#endif\n",
    "\n",
    "\n",
    "static void InvMixColumns(void)\n",
    "{\n",
    "  int i;\n",
    "  uint8_t a,b,c,d;\n",
    "  for(i=0;i<4;++i)\n",
    "  { \n",
    "    a = (*state)[i][0];\n",
    "    b = (*state)[i][1];\n",
    "    c = (*state)[i][2];\n",
    "    d = (*state)[i][3];\n",
    "\n",
    "    (*state)[i][0] = Multiply(a, 0x0e) ^ Multiply(b, 0x0b) ^ Multiply(c, 0x0d) ^ Multiply(d, 0x09);\n",
    "    (*state)[i][1] = Multiply(a, 0x09) ^ Multiply(b, 0x0e) ^ Multiply(c, 0x0b) ^ Multiply(d, 0x0d);\n",
    "    (*state)[i][2] = Multiply(a, 0x0d) ^ Multiply(b, 0x09) ^ Multiply(c, 0x0e) ^ Multiply(d, 0x0b);\n",
    "    (*state)[i][3] = Multiply(a, 0x0b) ^ Multiply(b, 0x0d) ^ Multiply(c, 0x09) ^ Multiply(d, 0x0e);\n",
    "  }\n",
    "}\n",
    "\n",
    "\n",
    "// The SubBytes Function Substitutes the values in the\n",
    "// state matrix with values in an S-box.\n",
    "static void InvSubBytes(void)\n",
    "{\n",
    "  uint8_t i,j;\n",
    "  for(i=0;i<4;++i)\n",
    "  {\n",
    "    for(j=0;j<4;++j)\n",
    "    {\n",
    "      (*state)[j][i] = getSBoxInvert((*state)[j][i]);\n",
    "    }\n",
    "  }\n",
    "}\n",
    "\n",
    "static void InvShiftRows(void)\n",
    "{\n",
    "  uint8_t temp;\n",
    "\n",
    "  // Rotate first row 1 columns to right  \n",
    "  temp=(*state)[3][1];\n",
    "  (*state)[3][1]=(*state)[2][1];\n",
    "  (*state)[2][1]=(*state)[1][1];\n",
    "  (*state)[1][1]=(*state)[0][1];\n",
    "  (*state)[0][1]=temp;\n",
    "\n",
    "  // Rotate second row 2 columns to right \n",
    "  temp=(*state)[0][2];\n",
    "  (*state)[0][2]=(*state)[2][2];\n",
    "  (*state)[2][2]=temp;\n",
    "\n",
    "  temp=(*state)[1][2];\n",
    "  (*state)[1][2]=(*state)[3][2];\n",
    "  (*state)[3][2]=temp;\n",
    "\n",
    "  // Rotate third row 3 columns to right\n",
    "  temp=(*state)[0][3];\n",
    "  (*state)[0][3]=(*state)[1][3];\n",
    "  (*state)[1][3]=(*state)[2][3];\n",
    "  (*state)[2][3]=(*state)[3][3];\n",
    "  (*state)[3][3]=temp;\n",
    "}\n",
    "\n",
    "\n",
    "// Cipher is the main function that encrypts the PlainText.\n",
    "static void Cipher(void)\n",
    "{\n",
    "  uint8_t round = 0;\n",
    "\n",
    "  // Add the First round key to the state before starting the rounds.\n",
    "  AddRoundKey(0); \n",
    "  \n",
    "  // There will be Nr rounds. nr = 10\n",
    "  // The first Nr-1 rounds are identical.\n",
    "  // These Nr-1 rounds are executed in the loop below.\n",
    "  for(round = 1; round < Nr; ++round)\n",
    "  {   \n",
    "    SubBytes();\n",
    "    ShiftRows();\n",
    "    MixColumns();\n",
    "    AddRoundKey(round);\n",
    "  }\n",
    "    \n",
    "  SubBytes();\n",
    "  ShiftRows();\n",
    "  AddRoundKey(Nr);\n",
    "}\n",
    "\n",
    "static void InvCipher(void)\n",
    "{\n",
    "  uint8_t round=0;\n",
    "  AddRoundKey(Nr); \n",
    "\n",
    "  for(round=Nr-1;round>0;round--)\n",
    "  {\n",
    "    InvShiftRows();\n",
    "    InvSubBytes();\n",
    "    AddRoundKey(round);\n",
    "    InvMixColumns();\n",
    "  }\n",
    "\n",
    "  InvShiftRows();\n",
    "  InvSubBytes();\n",
    "  AddRoundKey(0);\n",
    "}\n",
    "\n",
    "static void BlockCopy(uint8_t* output, uint8_t* input)\n",
    "{\n",
    "  uint8_t i;\n",
    "  for (i=0;i<KEYLEN;++i)\n",
    "  {\n",
    "    output[i] = input[i];\n",
    "  }\n",
    "}\n",
    "\n",
    "void AES128_ECB_encrypt(uint8_t* input, const uint8_t* key, uint8_t* output)\n",
    "{\n",
    "  // Copy input to output, and work in-memory on output\n",
    "  BlockCopy(output, input);\n",
    "  state = (state_t*)output;\n",
    "\n",
    "  Key = key;\n",
    "  KeyExpansion();\n",
    "\n",
    "  // The next function call encrypts the PlainText with the Key using AES algorithm.\n",
    "  Cipher();\n",
    "}\n",
    "\n",
    "void AES128_ECB_decrypt(uint8_t* input, const uint8_t* key, uint8_t *output)\n",
    "{\n",
    "  // Copy input to output, and work in-memory on output\n",
    "  BlockCopy(output, input);\n",
    "  state = (state_t*)output;\n",
    "\n",
    "  // The KeyExpansion routine must be called before encryption.\n",
    "  Key = key;\n",
    "  KeyExpansion();\n",
    "\n",
    "  InvCipher();\n",
    "}\n",
    "\n",
    "\n",
    "static void XorWithIv(uint8_t* buf)\n",
    "{\n",
    "  uint8_t i;\n",
    "  for(i = 0; i < KEYLEN; ++i)\n",
    "  {\n",
    "    buf[i] ^= Iv[i];\n",
    "  }\n",
    "}\n",
    "\n",
    "void *memset(void *s, int c, size_t n)\n",
    "{\n",
    "    unsigned char* p=s;\n",
    "    while(n--)\n",
    "        *p++ = (unsigned char)c;\n",
    "    return s;\n",
    "}\n",
    "\n",
    "void *memcpy(void *dest, const void *src, size_t n)\n",
    "{\n",
    "    char *dp = dest;\n",
    "    const char *sp = src;\n",
    "    while (n--)\n",
    "        *dp++ = *sp++;\n",
    "    return dest;\n",
    "}\n",
    "\n",
    "int strncmp(const char* s1, const char* s2, size_t n)\n",
    "{\n",
    "    while(n--)\n",
    "        if(*s1++!=*s2++)\n",
    "            return *(unsigned char*)(s1 - 1) - *(unsigned char*)(s2 - 1);\n",
    "    return 0;\n",
    "}\n",
    "\n",
    "int main(int argc, char ** argv){\n",
    "    uint8_t key[] = {0x2b, 0x7e, 0x15, 0x16, 0x28, 0xae, 0xd2, 0xa6, 0xab, 0xf7, 0x15, 0x88, 0x09, 0xcf, 0x4f, 0x3c};\n",
    "    uint8_t in[]  = {0x6b, 0xc1, 0xbe, 0xe2, 0x2e, 0x40, 0x9f, 0x96, 0xe9, 0x3d, 0x7e, 0x11, 0x73, 0x93, 0x17, 0x2a};\n",
    "    uint8_t out[] = {0x3a, 0xd7, 0x7b, 0xb4, 0x0d, 0x7a, 0x36, 0x60, 0xa8, 0x9e, 0xca, 0xf3, 0x24, 0x66, 0xef, 0x97};\n",
    "    uint8_t buffer[16];\n",
    "    for(;;) AES128_ECB_encrypt(in, key, buffer);\n",
    "    return 1;\n",
    "}"
   ]
  },
  {
   "cell_type": "markdown",
   "metadata": {},
   "source": [
    "We capture a background phi sweep by taking a trace at all points across the period of 25MHz. Details of phit bumping are provided in the paper."
   ]
  },
  {
   "cell_type": "code",
   "execution_count": 49,
   "metadata": {},
   "outputs": [
    {
     "name": "stderr",
     "output_type": "stream",
     "text": [
      "100%|██████████| 2688/2688 [01:45<00:00, 25.57it/s]\n"
     ]
    }
   ],
   "source": [
    "base_sweep = np.zeros(2688)\n",
    "for phi in tqdm(range(2688)):\n",
    "    buf = design.run(8)\n",
    "    base_sweep[phi] = np.mean(burn.parse.Trace.CombinedTrace(buf).pos.pop)\n",
    "    design.bumper.phase_bump_target_sensor.down()\n",
    "\n",
    "    \n",
    "for phi in range(2688):\n",
    "    design.bumper.phase_bump_target_sensor.up()"
   ]
  },
  {
   "cell_type": "markdown",
   "metadata": {},
   "source": [
    "A 100MHz signal emerges which is a byproduct of the sensors own internal circutry effecting the power distribution network. The details of this are discussed in our paper. "
   ]
  },
  {
   "cell_type": "code",
   "execution_count": 50,
   "metadata": {},
   "outputs": [
    {
     "data": {
      "text/plain": [
       "Text(0,0.5,'Popcount')"
      ]
     },
     "execution_count": 50,
     "metadata": {},
     "output_type": "execute_result"
    },
    {
     "data": {
      "image/png": "[encoded data removed]",
      "text/plain": [
       "<matplotlib.figure.Figure at 0xab76b810>"
      ]
     },
     "metadata": {},
     "output_type": "display_data"
    }
   ],
   "source": [
    "plt.plot(base_sweep)\n",
    "plt.xlabel(\"Phi Offset\")\n",
    "plt.ylabel(\"Popcount\")"
   ]
  },
  {
   "cell_type": "markdown",
   "metadata": {},
   "source": [
    "Once a backgrond sweep is captured we will start the AES core perpetually running AES."
   ]
  },
  {
   "cell_type": "code",
   "execution_count": 51,
   "metadata": {},
   "outputs": [],
   "source": [
    "args = np.array([], np.int32)\n",
    "design.processor.launch(aes, args)"
   ]
  },
  {
   "cell_type": "markdown",
   "metadata": {},
   "source": [
    "We again gather a sweep of the 25MHz period, but now the AES computation is running."
   ]
  },
  {
   "cell_type": "code",
   "execution_count": 52,
   "metadata": {},
   "outputs": [
    {
     "name": "stderr",
     "output_type": "stream",
     "text": [
      "100%|██████████| 2688/2688 [01:45<00:00, 25.42it/s]\n"
     ]
    }
   ],
   "source": [
    "pico_sweep = np.zeros(2688)\n",
    "for phi in tqdm(range(2688)):\n",
    "    buf = design.run(8)\n",
    "    pico_sweep[phi] = np.mean(burn.parse.Trace.CombinedTrace(buf).pos.pop)\n",
    "    design.bumper.phase_bump_target_sensor.down()"
   ]
  },
  {
   "cell_type": "markdown",
   "metadata": {},
   "source": [
    "A clear 25MHz periodicty appears. We expect this, as the PicoRV32 is running at 25MHz. "
   ]
  },
  {
   "cell_type": "code",
   "execution_count": 53,
   "metadata": {},
   "outputs": [
    {
     "data": {
      "text/plain": [
       "Text(0,0.5,'Popcount')"
      ]
     },
     "execution_count": 53,
     "metadata": {},
     "output_type": "execute_result"
    },
    {
     "data": {
      "image/png": "[encoded data removed]",
      "text/plain": [
       "<matplotlib.figure.Figure at 0xab73c430>"
      ]
     },
     "metadata": {},
     "output_type": "display_data"
    }
   ],
   "source": [
    "plt.plot(pico_sweep)\n",
    "plt.xlabel(\"Phi Offset\")\n",
    "plt.ylabel(\"Popcount\")"
   ]
  },
  {
   "cell_type": "markdown",
   "metadata": {},
   "source": [
    "We can take the difference between the background phi sweep and the active AES phi sweep to isolate the effect of the PicoRV32. This 25MHz perodicity is a result of the AES computation. "
   ]
  },
  {
   "cell_type": "code",
   "execution_count": 54,
   "metadata": {},
   "outputs": [
    {
     "data": {
      "text/plain": [
       "Text(0,0.5,'Popcount')"
      ]
     },
     "execution_count": 54,
     "metadata": {},
     "output_type": "execute_result"
    },
    {
     "data": {
      "image/png": "[encoded data removed]",
      "text/plain": [
       "<matplotlib.figure.Figure at 0xab700290>"
      ]
     },
     "metadata": {},
     "output_type": "display_data"
    }
   ],
   "source": [
    "plt.plot(pico_sweep - base_sweep)\n",
    "plt.xlabel(\"Phi Offset\")\n",
    "plt.ylabel(\"Popcount\")"
   ]
  }
 ],
 "metadata": {
  "kernelspec": {
   "display_name": "Python 3",
   "language": "python",
   "name": "python3"
  },
  "language_info": {
   "codemirror_mode": {
    "name": "ipython",
    "version": 3
   },
   "file_extension": ".py",
   "mimetype": "text/x-python",
   "name": "python",
   "nbconvert_exporter": "python",
   "pygments_lexer": "ipython3",
   "version": "3.6.5"
  }
 },
 "nbformat": 4,
 "nbformat_minor": 2
}
